{
 "cells": [
  {
   "cell_type": "code",
   "execution_count": null,
   "metadata": {},
   "outputs": [],
   "source": [
    "nb_de_chances = 3\n",
    "\n",
    "print(\"Voici notre quiz, tu as trois chances !\")\n",
    "\n",
    "if nb_de_chances > 0:\n",
    "    question1= input(\"Combien de fois la France a gagné la coupe du monde ? \")\n",
    "    while question1 != \"2\":\n",
    "        nb_de_chances -= 1\n",
    "        print(\"Dommage ! Il te reste {} chances\".format(nb_de_chances))\n",
    "        if nb_de_chances == 0:\n",
    "            print(\"Oh non ! Tu as perdu le jeu...\")\n",
    "            break\n",
    "        question1 = input(\"Combien de fois la France a gagné la coupe du monde ? \")\n",
    "\n",
    "if nb_de_chances > 0:\n",
    "    question2 = input(\"Quand a été fondé Apple ? \")\n",
    "    while question2 != \"1976\":\n",
    "        nb_de_chances -=1\n",
    "        print(\"Dommage ! Il te reste {} chances\".format(nb_de_chances))\n",
    "        if nb_de_chances == 0:\n",
    "            print(\"Oh non ! Tu as perdu le jeu...\")\n",
    "            break\n",
    "        question2 = input(\"Quand a été fondé Apple ? \")\n",
    "\n",
    "\n",
    "if nb_de_chances > 0:\n",
    "    question3 = input(\"Qui a fondé SpaceX ? \")\n",
    "    question3 = question3.lower()\n",
    "    while question3 != \"elon musk\":\n",
    "        nb_de_chances -=1\n",
    "        print(\"Dommage ! Il te reste {} chances\".format(nb_de_chances))\n",
    "        if nb_de_chances == 0:\n",
    "            print(\"Oh non ! Tu as perdu le jeu...\")\n",
    "            break\n",
    "        question3 = input(\"Qui a fondé SpaceX ? \")\n",
    "        question3 = question3.lower()\n",
    "\n",
    "if nb_de_chances > 0:\n",
    "    print(\"Bravo ! Tu as gagné le quiz !\")\n"
   ]
  },
  {
   "cell_type": "markdown",
   "metadata": {},
   "source": [
    "# Quiz with functions"
   ]
  },
  {
   "cell_type": "code",
   "execution_count": 29,
   "metadata": {},
   "outputs": [
    {
     "name": "stdin",
     "output_type": "stream",
     "text": [
      "Combien de fois la France a gagné la coupe du monde ?  d\n"
     ]
    },
    {
     "name": "stdout",
     "output_type": "stream",
     "text": [
      "You still have 2 chances\n"
     ]
    },
    {
     "name": "stdin",
     "output_type": "stream",
     "text": [
      "Combien de fois la France a gagné la coupe du monde ?  d\n"
     ]
    },
    {
     "name": "stdout",
     "output_type": "stream",
     "text": [
      "You still have 1 chances\n"
     ]
    },
    {
     "name": "stdin",
     "output_type": "stream",
     "text": [
      "Combien de fois la France a gagné la coupe du monde ?  d\n"
     ]
    },
    {
     "name": "stdout",
     "output_type": "stream",
     "text": [
      "You still have 0 chances\n",
      "Sorry you lost\n"
     ]
    }
   ],
   "source": [
    "def ask (lifes, question, good_answer): \n",
    "    if lifes>0:\n",
    "        answer = input(question).lower()\n",
    "        while answer != good_answer:\n",
    "            lifes -= 1 \n",
    "            print ('You still have {} chances'.format(lifes))\n",
    "            \n",
    "            if lifes ==0:\n",
    "                print('Sorry you lost')\n",
    "                break\n",
    "            answer = input(question).lower()\n",
    "    return lifes\n",
    "    \n",
    "def add_question (liste):\n",
    "    add = input('Do you want to add a question in the quiz?').lower()\n",
    "    if add =='yes' :\n",
    "        question = input(\"What is the question you want to add? \")\n",
    "        response = input(\"What is the answer to this question? \")\n",
    "        new_question = {'question': question, \"response\": response }\n",
    "        liste.append(new_question)\n",
    "    return liste\n",
    "\n",
    "def remove_question(liste):\n",
    "    rem = input(\"Do you want to remove a question?\")\n",
    "    if rem =='yes':\n",
    "        print(liste)\n",
    "        delete = int(input(\"What is the question to remove? Please press 1 for the first, 2 for the second...\"))\n",
    "        del(liste[delete - 1])\n",
    "    print(liste)\n",
    "    \n",
    "quiz = [{'question': \"Combien de fois la France a gagné la coupe du monde ? \", \"response\": \"2\"},\n",
    " {'question': \"Quand a été fondé Apple ? \", \"response\": \"1976\"},\n",
    " {'question': \"Qui a fondé SpaceX ? \", \"response\": \"elon musk\"}\n",
    "        ]\n",
    "\n",
    "chance = 3\n",
    "\n",
    "for i in range(len(quiz)):\n",
    "    chance = ask(chance, quiz[i]['question'], quiz[i]['response'])\n",
    "\n",
    "if chance > 0:\n",
    "    print('\\n Well done you won')"
   ]
  },
  {
   "cell_type": "code",
   "execution_count": 54,
   "metadata": {},
   "outputs": [],
   "source": [
    "import pandas as pd\n",
    "\n",
    "class Quizz():\n",
    "    \n",
    "    def __init__(self):\n",
    "        self.chances = 3\n",
    "        self.chances_left = 3\n",
    "        self.quizz = [{'question': \"Combien de fois la France a gagné la coupe du monde ? \", \"response\": \"2\"},\n",
    "                     {'question': \"Quand a été fondé Apple ? \", \"response\": \"1976\"},\n",
    "                     {'question': \"Qui a fondé SpaceX ? \", \"response\": \"elon musk\"}\n",
    "                    ]\n",
    "        \n",
    "    def show_quizz(self):\n",
    "        \n",
    "        quizz_tab = pd.DataFrame(self.quizz)\n",
    "        print (quizz_tab)\n",
    "    \n",
    "    def ask(self, question, good_answer): \n",
    "        if self.chances_left>0:\n",
    "            answer = input(question).lower()\n",
    "            while answer != good_answer:\n",
    "                self.chances_left -= 1 \n",
    "                print ('You still have {} chances'.format(self.chances_left))\n",
    "                if self.chances_left ==0:\n",
    "                    print('Sorry you lost and have no chances left')\n",
    "                    break\n",
    "                answer = input(question).lower()\n",
    "        return self.chances_left\n",
    "    \n",
    "    def add_question(self):\n",
    "        add = input('Do you want to add a question in the quiz?').lower()\n",
    "        if add == 'yes' :\n",
    "            question = input(\"What is the question you want to add? \")\n",
    "            response = input(\"What is the answer to this question? \").lower()\n",
    "            new_question = {'question': question, \"response\": response }\n",
    "            self.quizz.append(new_question)\n",
    "            print('\\nHere is your new quizz\\n')\n",
    "            self.show_quizz()\n",
    "        elif add =='no':\n",
    "            print('\\nHere is your quizz\\n')\n",
    "            self.show_quizz()\n",
    "        else: \n",
    "            raise ValueError('Please enter yes or no')   \n",
    "\n",
    "    def remove_question(self):\n",
    "        rem = input(\"Do you want to remove a question?\")\n",
    "        if rem =='yes':\n",
    "            print(self.quizz)\n",
    "            delete = int(input(\"What is the question to remove? Please press 1 for the first, 2 for the second...\"))\n",
    "            del(self.quizz[delete - 1])\n",
    "            print('\\nHere is your new quizz\\n')\n",
    "            self.show_quizz()\n",
    "        elif rem == 'no':\n",
    "            print('\\nHere is your quizz\\n')\n",
    "            self.show_quizz()\n",
    "        else: \n",
    "            raise ValueError('Please enter yes or no')\n",
    "\n",
    "    def launch_quiz(self):\n",
    "        for i in range(len(self.quizz)):\n",
    "            self.chances_left = self.ask(self.quizz[i]['question'], self.quizz[i]['response'])\n",
    "\n",
    "        if self.chances_left == self.chances:\n",
    "            print('\\nWell done you won without mistakes')\n",
    "        elif self.chances_left == self.chances - 1:\n",
    "            print('\\nGood job you won and made {} mistake'.format(self.chances - self.chances_left))\n",
    "        elif (self.chances_left > 0) and (self.chances_left < self.chances - 1):\n",
    "            print('\\nYou finally won and made {} mistakes'.format(self.chances - self.chances_left))\n",
    "        print(self.chances)\n",
    "        print(self.chances_left)\n",
    "            "
   ]
  },
  {
   "cell_type": "code",
   "execution_count": 55,
   "metadata": {},
   "outputs": [],
   "source": [
    "a=Quizz()"
   ]
  },
  {
   "cell_type": "code",
   "execution_count": 1,
   "metadata": {},
   "outputs": [],
   "source": [
    "import pandas as pd\n",
    "\n",
    "class Quizz():\n",
    "    \n",
    "    def __init__(self):\n",
    "        self.chances = 3\n",
    "        self.chances_left = 3\n",
    "        self.quizz = [{'question': \"Combien de fois la France a gagné la coupe du monde ? \", \"response\": \"2\"},\n",
    "                     {'question': \"Quand a été fondé Apple ? \", \"response\": \"1976\"},\n",
    "                     {'question': \"Qui a fondé SpaceX ? \", \"response\": \"elon musk\"}\n",
    "                    ]\n",
    "        self.name = 'Gary'\n",
    "        self.quit_quizz = \"\"\n",
    "        \n",
    "    def show_quizz(self):\n",
    "        \n",
    "        quizz_tab = pd.DataFrame(self.quizz)\n",
    "        print('\\nHere is your quizz now\\n')\n",
    "        print (quizz_tab)\n",
    "        \n",
    "        \n",
    "    def change_quizz(self):\n",
    "        \n",
    "        while self.quit_quizz != 'oui':\n",
    "            add = input('\\nDo you want to add a question in the quizz? Please enter yes or no\\n').lower()\n",
    "            if add == 'yes' :\n",
    "                self.add_question()\n",
    "            elif add == 'no':\n",
    "                rem = input(\"\\nDo you want to remove a question? Please enter yes or no\\n\").lower()\n",
    "                if rem =='yes':\n",
    "                    self.remove_question()\n",
    "                elif rem == 'no':\n",
    "                    self.show_quizz()\n",
    "                    self.quit_quizz = input ('\\nDoes the quizz suit you? Please enter yes if you have finished or no to modify it\\n').lower()\n",
    "                    if self.quit_quizz == 'yes':\n",
    "                        print ('Ok {} thank you, see you later'.format(self.name))\n",
    "                        break\n",
    "                else:\n",
    "                    print('\\nNot sur to understand what you ment...\\n')\n",
    "            else:\n",
    "                print('\\nNot sur to understand what you ment...\\n')\n",
    "                \n",
    "    \n",
    "    def ask(self, question, good_answer): \n",
    "        if self.chances_left>0:\n",
    "            answer = input(question).lower()\n",
    "            while answer != good_answer:\n",
    "                self.chances_left -= 1 \n",
    "                print ('\\nYou still have {} chances\\n'.format(self.chances_left))\n",
    "                if self.chances_left ==0:\n",
    "                    print('\\nSorry you lost and have no chances left\\n')\n",
    "                    break\n",
    "                answer = input(question).lower()\n",
    "        return self.chances_left\n",
    "    \n",
    "    def add_question(self):\n",
    "        \n",
    "            question = input(\"What is the question you want to add? \")\n",
    "            response = input(\"What is the answer to this question? \").lower()\n",
    "            new_question = {'question': question, \"response\": response }\n",
    "            self.quizz.append(new_question)\n",
    "            self.show_quizz()\n",
    "            \n",
    "    def remove_question(self):\n",
    "        \n",
    "            delete = int(input(\"\\nWhat is the question to remove? Please press 0 for the first, 1 for the second...Like on the left of your quizz\\n\"))\n",
    "            del(self.quizz[delete])\n",
    "            self.show_quizz()\n",
    "        \n",
    "\n",
    "    def launch_quizz(self):\n",
    "        \n",
    "        self.name = input(\"Hello you and welcome to the greatest quizz ever.\\nFirst what is your name?\\n\")\n",
    "        print(\"\\nAllright {} you have {} chances, let's begin and good luck\\n\".format(self.name, self.chances))\n",
    "        \n",
    "        for i in range(len(self.quizz)):\n",
    "            self.chances_left = self.ask(self.quizz[i]['question'], self.quizz[i]['response'])\n",
    "            \n",
    "        if self.chances_left == self.chances:\n",
    "            print('\\nWell done you won without mistakes')\n",
    "        elif self.chances_left == self.chances - 1:\n",
    "            print('\\nGood job you won and made {} mistake'.format(self.chances - self.chances_left))\n",
    "        elif (self.chances_left > 0) and (self.chances_left < self.chances - 1):\n",
    "            print('\\nYou finally won and made {} mistakes'.format(self.chances - self.chances_left))\n",
    "            "
   ]
  },
  {
   "cell_type": "code",
   "execution_count": 2,
   "metadata": {},
   "outputs": [],
   "source": [
    "a=Quizz()"
   ]
  },
  {
   "cell_type": "code",
   "execution_count": 3,
   "metadata": {},
   "outputs": [
    {
     "name": "stdout",
     "output_type": "stream",
     "text": [
      "\n",
      "Here is your quizz now\n",
      "\n",
      "                                            question   response\n",
      "0  Combien de fois la France a gagné la coupe du ...          2\n",
      "1                         Quand a été fondé Apple ?        1976\n",
      "2                              Qui a fondé SpaceX ?   elon musk\n"
     ]
    }
   ],
   "source": [
    "a.show_quizz()"
   ]
  },
  {
   "cell_type": "code",
   "execution_count": 5,
   "metadata": {},
   "outputs": [
    {
     "name": "stdin",
     "output_type": "stream",
     "text": [
      "Hello you and welcome to the greatest quizz ever.\n",
      "First what is your name?\n",
      " hi\n"
     ]
    },
    {
     "name": "stdout",
     "output_type": "stream",
     "text": [
      "\n",
      "Allright hi you have 3 chances, let's begin and good luck\n",
      "\n"
     ]
    },
    {
     "name": "stdin",
     "output_type": "stream",
     "text": [
      "Combien de fois la France a gagné la coupe du monde ?  2\n",
      "Quand a été fondé Apple ?  1976\n",
      "Qui a fondé SpaceX ?  e\n"
     ]
    },
    {
     "name": "stdout",
     "output_type": "stream",
     "text": [
      "\n",
      "You still have 2 chances\n",
      "\n"
     ]
    },
    {
     "name": "stdin",
     "output_type": "stream",
     "text": [
      "Qui a fondé SpaceX ?  elON musk\n"
     ]
    },
    {
     "name": "stdout",
     "output_type": "stream",
     "text": [
      "\n",
      "Good job you won and made 1 mistake\n"
     ]
    }
   ],
   "source": [
    "a.launch_quizz()"
   ]
  },
  {
   "cell_type": "code",
   "execution_count": 4,
   "metadata": {},
   "outputs": [
    {
     "name": "stdin",
     "output_type": "stream",
     "text": [
      "\n",
      "Do you want to add a question in the quizz? Please enter yes or no\n",
      " yes\n",
      "What is the question you want to add?  aa\n",
      "What is the answer to this question?  a\n"
     ]
    },
    {
     "name": "stdout",
     "output_type": "stream",
     "text": [
      "\n",
      "Here is your quizz now\n",
      "\n",
      "                                            question   response\n",
      "0  Combien de fois la France a gagné la coupe du ...          2\n",
      "1                         Quand a été fondé Apple ?        1976\n",
      "2                              Qui a fondé SpaceX ?   elon musk\n",
      "3                                                 aa          a\n"
     ]
    },
    {
     "name": "stdin",
     "output_type": "stream",
     "text": [
      "\n",
      "Do you want to add a question in the quizz? Please enter yes or no\n",
      " no\n",
      "\n",
      "Do you want to remove a question? Please enter yes or no\n",
      " yes\n",
      "\n",
      "What is the question to remove? Please press 0 for the first, 1 for the second...Like on the left of your quizz\n",
      " 3\n"
     ]
    },
    {
     "name": "stdout",
     "output_type": "stream",
     "text": [
      "\n",
      "Here is your quizz now\n",
      "\n",
      "                                            question   response\n",
      "0  Combien de fois la France a gagné la coupe du ...          2\n",
      "1                         Quand a été fondé Apple ?        1976\n",
      "2                              Qui a fondé SpaceX ?   elon musk\n"
     ]
    },
    {
     "name": "stdin",
     "output_type": "stream",
     "text": [
      "\n",
      "Do you want to add a question in the quizz? Please enter yes or no\n",
      " no\n",
      "\n",
      "Do you want to remove a question? Please enter yes or no\n",
      " no\n"
     ]
    },
    {
     "name": "stdout",
     "output_type": "stream",
     "text": [
      "\n",
      "Here is your quizz now\n",
      "\n",
      "                                            question   response\n",
      "0  Combien de fois la France a gagné la coupe du ...          2\n",
      "1                         Quand a été fondé Apple ?        1976\n",
      "2                              Qui a fondé SpaceX ?   elon musk\n"
     ]
    },
    {
     "name": "stdin",
     "output_type": "stream",
     "text": [
      "\n",
      "Does the quizz suit you? Please enter yes if you have finished or no to modify it\n",
      " yes\n"
     ]
    },
    {
     "name": "stdout",
     "output_type": "stream",
     "text": [
      "Ok Gary thank you, see you later\n"
     ]
    }
   ],
   "source": [
    "a.change_quizz()"
   ]
  },
  {
   "cell_type": "code",
   "execution_count": null,
   "metadata": {},
   "outputs": [],
   "source": []
  }
 ],
 "metadata": {
  "kernelspec": {
   "display_name": "Python 3",
   "language": "python",
   "name": "python3"
  },
  "language_info": {
   "codemirror_mode": {
    "name": "ipython",
    "version": 3
   },
   "file_extension": ".py",
   "mimetype": "text/x-python",
   "name": "python",
   "nbconvert_exporter": "python",
   "pygments_lexer": "ipython3",
   "version": "3.8.6"
  }
 },
 "nbformat": 4,
 "nbformat_minor": 4
}
