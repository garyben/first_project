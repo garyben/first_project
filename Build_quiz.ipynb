{
 "cells": [
  {
   "cell_type": "markdown",
   "metadata": {},
   "source": [
    "# Build a quiz - Part 2"
   ]
  },
  {
   "cell_type": "markdown",
   "metadata": {},
   "source": [
    "Below is the code we wrote yesterday, that asks three questions to the user and allows up to 3 wrong answers :"
   ]
  },
  {
   "cell_type": "code",
   "execution_count": null,
   "metadata": {},
   "outputs": [],
   "source": [
    "nb_de_chances = 3\n",
    "\n",
    "print(\"Voici notre quiz, tu as trois chances !\")\n",
    "\n",
    "if nb_de_chances > 0:\n",
    "    question1= input(\"Combien de fois la France a gagné la coupe du monde ? \")\n",
    "    while question1 != \"2\":\n",
    "        nb_de_chances -= 1\n",
    "        print(\"Dommage ! Il te reste {} chances\".format(nb_de_chances))\n",
    "        if nb_de_chances == 0:\n",
    "            print(\"Oh non ! Tu as perdu le jeu...\")\n",
    "            break\n",
    "        question1 = input(\"Combien de fois la France a gagné la coupe du monde ? \")\n",
    "\n",
    "if nb_de_chances > 0:\n",
    "    question2 = input(\"Quand a été fondé Apple ? \")\n",
    "    while question2 != \"1976\":\n",
    "        nb_de_chances -=1\n",
    "        print(\"Dommage ! Il te reste {} chances\".format(nb_de_chances))\n",
    "        if nb_de_chances == 0:\n",
    "            print(\"Oh non ! Tu as perdu le jeu...\")\n",
    "            break\n",
    "        question2 = input(\"Quand a été fondé Apple ? \")\n",
    "\n",
    "\n",
    "if nb_de_chances > 0:\n",
    "    question3 = input(\"Qui a fondé SpaceX ? \")\n",
    "    question3 = question3.lower()\n",
    "    while question3 != \"elon musk\":\n",
    "        nb_de_chances -=1\n",
    "        print(\"Dommage ! Il te reste {} chances\".format(nb_de_chances))\n",
    "        if nb_de_chances == 0:\n",
    "            print(\"Oh non ! Tu as perdu le jeu...\")\n",
    "            break\n",
    "        question3 = input(\"Qui a fondé SpaceX ? \")\n",
    "        question3 = question3.lower()\n",
    "\n",
    "if nb_de_chances > 0:\n",
    "    print(\"Bravo ! Tu as gagné le quiz !\")\n"
   ]
  },
  {
   "cell_type": "code",
   "execution_count": 5,
   "metadata": {},
   "outputs": [
    {
     "name": "stdin",
     "output_type": "stream",
     "text": [
      "Combien de fois la France a gagné la coupe du monde ?  \n"
     ]
    },
    {
     "name": "stdout",
     "output_type": "stream",
     "text": [
      "You still have 2 chances\n"
     ]
    },
    {
     "name": "stdin",
     "output_type": "stream",
     "text": [
      "Combien de fois la France a gagné la coupe du monde ?  f\n"
     ]
    },
    {
     "name": "stdout",
     "output_type": "stream",
     "text": [
      "You still have 1 chances\n"
     ]
    },
    {
     "name": "stdin",
     "output_type": "stream",
     "text": [
      "Combien de fois la France a gagné la coupe du monde ?  f\n"
     ]
    },
    {
     "name": "stdout",
     "output_type": "stream",
     "text": [
      "You still have 0 chances\n",
      "Sorry you lost\n"
     ]
    }
   ],
   "source": [
    "def ask (lifes, question, good_answer): \n",
    "    if lifes>0:\n",
    "        answer = input(question).lower()\n",
    "        while answer != good_answer:\n",
    "            lifes -= 1 \n",
    "            print ('You still have {} chances'.format(lifes))\n",
    "            \n",
    "            if lifes ==0:\n",
    "                print('Sorry you lost')\n",
    "                break\n",
    "            answer = input(question).lower()\n",
    "    return lifes\n",
    "    \n",
    "def add_question (liste):\n",
    "    add = input('Do you want to add a question in the quiz?').lower()\n",
    "    if add =='yes' :\n",
    "        question = input(\"What is the question you want to add? \")\n",
    "        response = input(\"What is the answer to this question? \")\n",
    "        new_question = {'question': question, \"response\": response }\n",
    "        liste.append(new_question)\n",
    "    return liste\n",
    "\n",
    "def remove_question(liste):\n",
    "    rem = input(\"Do you want to remove a question?\")\n",
    "    if rem =='yes':\n",
    "        print(liste)\n",
    "        delete = int(input(\"What is the question to remove? Please press 1 for the first, 2 for the second...\"))\n",
    "        del(liste[delete - 1])\n",
    "    print(liste)\n",
    "    \n",
    "quiz = [{'question': \"Combien de fois la France a gagné la coupe du monde ? \", \"response\": \"2\"},\n",
    " {'question': \"Quand a été fondé Apple ? \", \"response\": \"1976\"},\n",
    " {'question': \"Qui a fondé SpaceX ? \", \"response\": \"elon musk\"}\n",
    "        ]\n",
    "\n",
    "chance = 3\n",
    "\n",
    "for i in range(len(quiz)):\n",
    "    chance = ask(chance, quiz[i]['question'], quiz[i]['response'])\n",
    "\n",
    "if chance > 0:\n",
    "    print('\\n Well done you won')"
   ]
  },
  {
   "cell_type": "code",
   "execution_count": 6,
   "metadata": {},
   "outputs": [
    {
     "name": "stdin",
     "output_type": "stream",
     "text": [
      "Do you want to remove a question? yes\n"
     ]
    },
    {
     "name": "stdout",
     "output_type": "stream",
     "text": [
      "[{'question': 'Combien de fois la France a gagné la coupe du monde ? ', 'response': '2'}, {'question': 'Quand a été fondé Apple ? ', 'response': '1976'}, {'question': 'Qui a fondé SpaceX ? ', 'response': 'elon musk'}]\n"
     ]
    },
    {
     "name": "stdin",
     "output_type": "stream",
     "text": [
      "What is the question to remove? Please press 1 for the first, 2 for the second... 1\n"
     ]
    },
    {
     "name": "stdout",
     "output_type": "stream",
     "text": [
      "[{'question': 'Quand a été fondé Apple ? ', 'response': '1976'}, {'question': 'Qui a fondé SpaceX ? ', 'response': 'elon musk'}]\n"
     ]
    }
   ],
   "source": [
    "remove_question(quiz)"
   ]
  },
  {
   "cell_type": "markdown",
   "metadata": {},
   "source": [
    "Let's refactor our quiz now that we know how to be dry.\n",
    "\n",
    "SPECs: \n",
    "\n",
    "* Your code should be DRY \n",
    "* You should use functions "
   ]
  }
 ],
 "metadata": {
  "kernelspec": {
   "display_name": "Python 3",
   "language": "python",
   "name": "python3"
  },
  "language_info": {
   "codemirror_mode": {
    "name": "ipython",
    "version": 3
   },
   "file_extension": ".py",
   "mimetype": "text/x-python",
   "name": "python",
   "nbconvert_exporter": "python",
   "pygments_lexer": "ipython3",
   "version": "3.8.6"
  }
 },
 "nbformat": 4,
 "nbformat_minor": 4
}
